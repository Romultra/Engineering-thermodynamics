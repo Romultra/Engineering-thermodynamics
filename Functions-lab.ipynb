{
 "cells": [
  {
   "cell_type": "code",
   "execution_count": null,
   "metadata": {},
   "outputs": [],
   "source": [
    "import numpy as np\n",
    "import pandas as pd\n",
    "import matplotlib.pyplot as plt\n",
    "import scipy as sp\n",
    "from apdx_functions import *\n",
    "from diesel_solver import solve_diesel_cycle, define_empty_variables"
   ]
  },
  {
   "cell_type": "code",
   "execution_count": null,
   "metadata": {},
   "outputs": [],
   "source": [
    "def x_from_P_and_var(pressure, known_var, known_var_value):\n",
    "    \"\"\"\n",
    "    Compute the quality (x) based on one quality-dependent variable (h, s, u, or v)\n",
    "    and either pressure (P) or temperature (T).\n",
    "    \"\"\"\n",
    "\n",
    "    # Decide the table base and lookup key\n",
    "    #if known(vars['T']):\n",
    "    #    table_base = 'Temperature'\n",
    "    #    lookup_value = vars['T']\n",
    "    #else:\n",
    "    table_base = 'Pressure'\n",
    "    lookup_value = pressure\n",
    "\n",
    "    var_f = get_apdx_8ab(table_base, table_base[0], lookup_value, known_var + 'f')\n",
    "    var_g = get_apdx_8ab(table_base, table_base[0], lookup_value, known_var + 'g')\n",
    "\n",
    "    x = (known_var_value - var_f) / (var_g - var_f)\n",
    "\n",
    "    return x\n",
    "\n",
    "x = x_from_P_and_var(0.3, 's', 5)\n",
    "print(x)\n",
    "hf, hg = get_apdx_8ab('Pressure', 'P', 0.3, 'hf'), get_apdx_8ab('Pressure', 'P', 0.3, 'hg')\n",
    "heat = (1-x) * (hg - hf)\n",
    "print(heat, 'kJ/kg')"
   ]
  },
  {
   "cell_type": "code",
   "execution_count": null,
   "metadata": {},
   "outputs": [],
   "source": [
    "get_apdx_8ab('Pressure', 'P', 0.2, 'hf')"
   ]
  },
  {
   "cell_type": "code",
   "execution_count": null,
   "metadata": {},
   "outputs": [],
   "source": [
    "# Example usage of the apdx_function module:\n",
    "print(\"Retrieving APDX 1 data for CO2:\")\n",
    "print(get_apdx_1('CO2', 'R', True))\n",
    "\n",
    "print(\"\\nRetrieving APDX 7 data for Air:\")\n",
    "print(get_apdx_7('T', 300, 'Pr'))\n",
    "\n",
    "print(\"\\nRetrieving APDX 8 data for saturated Water:\")\n",
    "print(get_apdx_8ab('Pressure', 'P', 0.50, 'vf'))\n",
    "\n",
    "print(\"\\nRetrieving APDX 9 data for saturated R134a:\")\n",
    "print(get_apdx_9ab('Pressure', 'P', 0.50, 'vf'))"
   ]
  },
  {
   "cell_type": "code",
   "execution_count": null,
   "metadata": {},
   "outputs": [],
   "source": [
    "print(get_apdx_7('T', 300, 'Pr'))\n",
    "print(get_apdx_7('Pr', 30.492, 'h'))\n",
    "print(get_apdx_7('T', 300, 'h'))\n",
    "print(get_apdx_7('h', 799.71, 'T'))"
   ]
  },
  {
   "cell_type": "code",
   "execution_count": null,
   "metadata": {},
   "outputs": [],
   "source": [
    "print(h_air(1976.4))\n",
    "print(h_air(988.2))"
   ]
  },
  {
   "cell_type": "code",
   "execution_count": null,
   "metadata": {},
   "outputs": [],
   "source": [
    "# Example usage of the diesel_solver module\n",
    "variables = define_empty_variables()\n",
    "\n",
    "variables[0]['r'] = 20  # Compression ratio\n",
    "variables[0]['rc'] = 2.0  # Cut-off ratio\n",
    "variables[1]['T1'] = 298.15  # K\n",
    "variables[1]['P1'] = 100  # kPa\n",
    "\n",
    "solve_diesel_cycle(variables)"
   ]
  },
  {
   "cell_type": "code",
   "execution_count": null,
   "metadata": {},
   "outputs": [],
   "source": [
    "# Example usage of the diesel_solver module\n",
    "variables = define_empty_variables()\n",
    "\n",
    "variables[0]['r'] = 18.0  # Compression ratio\n",
    "variables[0]['rc'] = 2.0  # Cut-off ratio\n",
    "variables[1]['T1'] = 300  # K\n",
    "variables[1]['P1'] = 100  # kPa\n",
    "\n",
    "solve_diesel_cycle(variables)"
   ]
  },
  {
   "cell_type": "code",
   "execution_count": null,
   "metadata": {},
   "outputs": [],
   "source": [
    "# Example usage of the diesel_solver module\n",
    "variables = define_empty_variables()\n",
    "\n",
    "variables[3]['T3'] = 2200 # K\n",
    "variables[2]['P2'] = 6500 # Cut-off ratio\n",
    "variables[1]['T1'] = 300  # K\n",
    "variables[1]['P1'] = 95  # kPa\n",
    "\n",
    "solve_diesel_cycle(variables)"
   ]
  },
  {
   "cell_type": "code",
   "execution_count": null,
   "metadata": {},
   "outputs": [],
   "source": [
    "# Example usage of the diesel_solver module\n",
    "variables = define_empty_variables()\n",
    "\n",
    "variables[3]['T3'] = 1800 # K\n",
    "variables[1]['P1'] = 95 # Cut-off ratio\n",
    "variables[1]['T1'] = 290  # K\n",
    "variables[0]['r'] = 20  # kPa\n",
    "variables[1]['V1'] = 0.0005 # m^3\n",
    "\n",
    "solve_diesel_cycle(variables)"
   ]
  },
  {
   "cell_type": "code",
   "execution_count": null,
   "metadata": {},
   "outputs": [],
   "source": [
    "# Load the new uploaded CSV\n",
    "file_path_new = 'Appendix-data/9c-Superheated-R134a.csv'\n",
    "df_new = pd.read_csv(file_path_new, header=1)\n",
    "\n",
    "\n",
    "# Convert Pressure and Temperature columns to numeric\n",
    "df_new['P'] = pd.to_numeric(df_new['P'], errors='coerce')\n",
    "df_new['T'] = pd.to_numeric(df_new['T'], errors='coerce')\n",
    "\n",
    "# Now plot\n",
    "plt.figure(figsize=(10, 6))\n",
    "plt.scatter(df_new['P'], df_new['T'], s=10)\n",
    "plt.title('2D Grid: Pressure vs Temperature (Superheated R134a)')\n",
    "plt.xlabel('Pressure (MPa)')\n",
    "plt.ylabel('Temperature (°C)')\n",
    "plt.grid(True)\n",
    "plt.show()"
   ]
  },
  {
   "cell_type": "code",
   "execution_count": null,
   "metadata": {},
   "outputs": [],
   "source": [
    "from scipy.interpolate import griddata\n",
    "\n",
    "# Define the grid over which we want to interpolate\n",
    "pressure_vals = np.linspace(df_new['P'].min(), df_new['P'].max(), 200)\n",
    "temperature_vals = np.linspace(df_new['T'].min(), df_new['T'].max(), 200)\n",
    "\n",
    "# Create a grid\n",
    "P_grid, T_grid = np.meshgrid(pressure_vals, temperature_vals)\n",
    "\n",
    "# Pick a property to interpolate, for example, entropy (s)\n",
    "# First, ensure entropy is numeric\n",
    "df_new['s'] = pd.to_numeric(df_new['s'], errors='coerce')\n",
    "\n",
    "# Prepare points and values\n",
    "points = np.column_stack((df_new['P'], df_new['T']))\n",
    "values = df_new['s']\n",
    "\n",
    "print(griddata(points, values, (0.8, 100), method='linear'))\n",
    "\n",
    "# Interpolate\n",
    "S_grid = griddata(points, values, (P_grid, T_grid), method='linear')\n",
    "\n",
    "# Plot the interpolated surface\n",
    "plt.figure(figsize=(10, 6))\n",
    "contour = plt.contourf(P_grid, T_grid, S_grid, levels=50)\n",
    "plt.colorbar(contour, label='Entropy s (kJ/kg·K)')\n",
    "plt.scatter(df_new['P'], df_new['T'], s=10)\n",
    "plt.title('Interpolated Entropy (s) over Pressure-Temperature Grid')\n",
    "plt.xlabel('Pressure (MPa)')\n",
    "plt.ylabel('Temperature (°C)')\n",
    "plt.grid(True)\n",
    "plt.show()"
   ]
  }
 ],
 "metadata": {
  "kernelspec": {
   "display_name": "Python 3",
   "language": "python",
   "name": "python3"
  },
  "language_info": {
   "codemirror_mode": {
    "name": "ipython",
    "version": 3
   },
   "file_extension": ".py",
   "mimetype": "text/x-python",
   "name": "python",
   "nbconvert_exporter": "python",
   "pygments_lexer": "ipython3",
   "version": "3.13.2"
  }
 },
 "nbformat": 4,
 "nbformat_minor": 2
}
