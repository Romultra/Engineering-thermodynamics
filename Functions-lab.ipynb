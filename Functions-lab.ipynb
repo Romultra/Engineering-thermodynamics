{
 "cells": [
  {
   "cell_type": "code",
   "execution_count": null,
   "metadata": {},
   "outputs": [],
   "source": [
    "import numpy as np\n",
    "import pandas as pd\n",
    "import matplotlib.pyplot as plt\n",
    "import scipy as sp\n",
    "from apdx_functions import *\n",
    "from diesel_solver import solve_diesel_cycle, define_empty_variables"
   ]
  },
  {
   "cell_type": "code",
   "execution_count": null,
   "metadata": {},
   "outputs": [],
   "source": [
    "# Example usage of the apdx_function module:\n",
    "print(\"Retrieving APDX 1 data for CO2:\")\n",
    "print(get_apdx_1('CO2', 'R', True))\n",
    "\n",
    "print(\"\\nRetrieving APDX 7 data for Air:\")\n",
    "print(get_apdx_7('T', 303, 'Pr')[0])\n",
    "\n",
    "print(\"\\nRetrieving APDX 8 data for saturated Water:\")\n",
    "print(get_apdx_8('Pressure', 'P', 0.50, 'vf')[0])\n",
    "\n",
    "print(\"\\nRetrieving APDX 9 data for saturated R134a:\")\n",
    "print(get_apdx_9('Pressure', 'P', 0.50, 'vf')[0])"
   ]
  },
  {
   "cell_type": "code",
   "execution_count": null,
   "metadata": {},
   "outputs": [],
   "source": [
    "print(h_air(1976.4))\n",
    "print(h_air(988.2))"
   ]
  },
  {
   "cell_type": "code",
   "execution_count": null,
   "metadata": {},
   "outputs": [],
   "source": [
    "# Example usage of the diesel_solver module\n",
    "variables = define_empty_variables()\n",
    "\n",
    "variables[0]['r'] = 20  # Compression ratio\n",
    "variables[0]['rc'] = 2.0  # Cut-off ratio\n",
    "variables[1]['T1'] = 298.15  # K\n",
    "variables[1]['P1'] = 100  # kPa\n",
    "\n",
    "solve_diesel_cycle(variables)"
   ]
  },
  {
   "cell_type": "code",
   "execution_count": null,
   "metadata": {},
   "outputs": [],
   "source": [
    "# Example usage of the diesel_solver module\n",
    "variables = define_empty_variables()\n",
    "\n",
    "variables[0]['r'] = 18.0  # Compression ratio\n",
    "variables[0]['rc'] = 2.0  # Cut-off ratio\n",
    "variables[1]['T1'] = 300  # K\n",
    "variables[1]['P1'] = 100  # kPa\n",
    "\n",
    "solve_diesel_cycle(variables)"
   ]
  },
  {
   "cell_type": "code",
   "execution_count": null,
   "metadata": {},
   "outputs": [],
   "source": [
    "# Example usage of the diesel_solver module\n",
    "variables = define_empty_variables()\n",
    "\n",
    "variables[3]['T3'] = 2200 # K\n",
    "variables[2]['P2'] = 6500 # Cut-off ratio\n",
    "variables[1]['T1'] = 300  # K\n",
    "variables[1]['P1'] = 95  # kPa\n",
    "\n",
    "solve_diesel_cycle(variables)"
   ]
  },
  {
   "cell_type": "code",
   "execution_count": null,
   "metadata": {},
   "outputs": [],
   "source": [
    "# Example usage of the diesel_solver module\n",
    "variables = define_empty_variables()\n",
    "\n",
    "variables[3]['T3'] = 1800 # K\n",
    "variables[1]['P1'] = 95 # Cut-off ratio\n",
    "variables[1]['T1'] = 290  # K\n",
    "variables[0]['r'] = 20  # kPa\n",
    "variables[1]['V1'] = 0.0005 # m^3\n",
    "\n",
    "solve_diesel_cycle(variables)"
   ]
  }
 ],
 "metadata": {
  "kernelspec": {
   "display_name": "Python 3",
   "language": "python",
   "name": "python3"
  },
  "language_info": {
   "codemirror_mode": {
    "name": "ipython",
    "version": 3
   },
   "file_extension": ".py",
   "mimetype": "text/x-python",
   "name": "python",
   "nbconvert_exporter": "python",
   "pygments_lexer": "ipython3",
   "version": "3.13.2"
  }
 },
 "nbformat": 4,
 "nbformat_minor": 2
}
