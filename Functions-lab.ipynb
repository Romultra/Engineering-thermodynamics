{
 "cells": [
  {
   "cell_type": "markdown",
   "metadata": {},
   "source": [
    "# Welcome to Thermodynamics - Too Hot  to Handle "
   ]
  },
  {
   "cell_type": "code",
   "execution_count": null,
   "metadata": {},
   "outputs": [],
   "source": [
    "import numpy as np\n",
    "import pandas as pd\n",
    "import matplotlib.pyplot as plt\n",
    "import scipy as sp\n",
    "from thermo import *"
   ]
  },
  {
   "cell_type": "code",
   "execution_count": null,
   "metadata": {},
   "outputs": [],
   "source": [
    "x = x_from_PT_and_var(8, 'P', 0.3, 's', 5)\n",
    "print(x)\n",
    "hf, hg = get_apdx_8ab('Pressure', 'P', 0.3, 'hf'), get_apdx_8ab('Pressure', 'P', 0.3, 'hg')\n",
    "heat = (1-x) * (hg - hf)\n",
    "print(heat, 'kJ/kg')"
   ]
  },
  {
   "cell_type": "code",
   "execution_count": null,
   "metadata": {},
   "outputs": [],
   "source": [
    "# Vars from quality and pressure far saturated water\n",
    "vars_from_x_and_PT(8, 'P', 0.3, 0.6255897445536738)\n",
    "print('')\n",
    "vars = vars_from_x_and_quality_var(8, 0.6255897445536738, 's', 5)"
   ]
  },
  {
   "cell_type": "code",
   "execution_count": null,
   "metadata": {},
   "outputs": [],
   "source": [
    "# Example usage of the apdx_function module:\n",
    "print(\"Retrieving APDX 1 data for CO2:\")\n",
    "print(get_apdx_1('CO2', 'R', True))\n",
    "\n",
    "# Apdx 4 example: get gamma for Air at 300K\n",
    "print(\"\\nRetrieving APDX 4 data for Air:\")\n",
    "print(get_apdx_4('Air', 'T', 300, 'gamma'))\n",
    "\n",
    "print(\"\\nRetrieving APDX 7 data for Air:\")\n",
    "print(get_apdx_7('T', 300, 'Pr'))\n",
    "\n",
    "print(\"\\nRetrieving APDX 8 data for saturated Water:\")\n",
    "print(get_apdx_8ab('Pressure', 'P', 0.50, 'vf'))\n",
    "\n",
    "print(\"\\nRetrieving APDX 9 data for saturated R134a:\")\n",
    "print(get_apdx_9ab('Pressure', 'P', 0.50, 'vf'))"
   ]
  },
  {
   "cell_type": "code",
   "execution_count": null,
   "metadata": {},
   "outputs": [],
   "source": [
    "# Question 9\n",
    "\n",
    "h2 = get_apdx_8ab('Pressure', 'P', 0.2, 'hf')\n",
    "h1 = h2 + 5000/2\n",
    "print('h1:', h1)\n",
    "print('T1:', get_apdx_8c(('P', 'h'), (10, h1), 'T'))"
   ]
  },
  {
   "cell_type": "code",
   "execution_count": null,
   "metadata": {},
   "outputs": [],
   "source": [
    "# Question 10\n",
    "\n",
    "print(get_apdx_7('T', 300, 'Pr'))\n",
    "print(get_apdx_7('Pr', 30.492, 'h'))\n",
    "print(get_apdx_7('T', 300, 'h'))\n",
    "print(get_apdx_7('h', 799.71, 'T'))"
   ]
  },
  {
   "cell_type": "code",
   "execution_count": null,
   "metadata": {},
   "outputs": [],
   "source": [
    "print(h_air(1976.4))\n",
    "print(h_air(988.2))"
   ]
  },
  {
   "cell_type": "code",
   "execution_count": null,
   "metadata": {},
   "outputs": [],
   "source": [
    "from thermo.diesel_solver import solve_diesel_cycle, define_empty_variables\n",
    "\n",
    "# Example usage of the diesel_solver module\n",
    "variables = define_empty_variables()\n",
    "\n",
    "variables[0]['r'] = 20  # Compression ratio\n",
    "variables[0]['rc'] = 2.0  # Cut-off ratio\n",
    "variables[1]['T1'] = 298.15  # K\n",
    "variables[1]['P1'] = 100  # kPa\n",
    "\n",
    "solve_diesel_cycle(variables)"
   ]
  },
  {
   "cell_type": "code",
   "execution_count": null,
   "metadata": {},
   "outputs": [],
   "source": [
    "from thermo.otto_solver import define_empty_variables, solve_otto_cycle, otto_display_tables\n",
    "\n",
    "vars = define_empty_variables()\n",
    "\n",
    "# give the solver *one* piece of information per state\n",
    "vars['1']['P'] = 100 # kPa\n",
    "vars['1']['T'] = 295 # K\n",
    "vars['3']['T'] = 2000 # K\n",
    "#vars['Qh'] = 900\n",
    "vars['r'] = 9 # compression ratio\n",
    "\n",
    "solved = solve_otto_cycle(vars, cold_air_standard=True)\n",
    "otto_display_tables(solved, sig_figs=5)"
   ]
  },
  {
   "cell_type": "code",
   "execution_count": null,
   "metadata": {},
   "outputs": [],
   "source": [
    "from thermo.Rankine_solver import define_empty_variables, solve_r_rankine_cycle\n",
    "from thermo.Rankine_solver import plot_Ts_cycle, rankine_display_tables\n",
    "\n",
    "vars = define_empty_variables()\n",
    "\n",
    "# give the solver *one* piece of information per state\n",
    "vars['2']['T'] = -8  # C\n",
    "vars['3']['P'] = 0.8 # MPa\n",
    "vars['m_dot'] = 0.1 # kg/s\n",
    "\n",
    "solved = solve_r_rankine_cycle(vars)\n",
    "\n",
    "rankine_display_tables(solved)\n",
    "plot_Ts_cycle(solved)"
   ]
  }
 ],
 "metadata": {
  "kernelspec": {
   "display_name": ".venv",
   "language": "python",
   "name": "python3"
  },
  "language_info": {
   "codemirror_mode": {
    "name": "ipython",
    "version": 3
   },
   "file_extension": ".py",
   "mimetype": "text/x-python",
   "name": "python",
   "nbconvert_exporter": "python",
   "pygments_lexer": "ipython3",
   "version": "3.13.2"
  }
 },
 "nbformat": 4,
 "nbformat_minor": 2
}
