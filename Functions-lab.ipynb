{
 "cells": [
  {
   "cell_type": "markdown",
   "metadata": {},
   "source": [
    "# Welcome to Thermodynamics - Too Hot  to Handle "
   ]
  },
  {
   "cell_type": "code",
   "execution_count": null,
   "metadata": {},
   "outputs": [],
   "source": [
    "import numpy as np\n",
    "import pandas as pd\n",
    "import matplotlib.pyplot as plt\n",
    "import scipy as sp\n",
    "from thermo import *\n",
    "from diesel_solver import solve_diesel_cycle, define_empty_variables"
   ]
  },
  {
   "cell_type": "code",
   "execution_count": null,
   "metadata": {},
   "outputs": [],
   "source": [
    "def x_from_P_and_var(pressure, known_var, known_var_value):\n",
    "    \"\"\"\n",
    "    Compute the quality (x) based on one quality-dependent variable (h, s, u, or v)\n",
    "    and either pressure (P) or temperature (T).\n",
    "    \"\"\"\n",
    "\n",
    "    # Decide the table base and lookup key\n",
    "    #if known(vars['T']):\n",
    "    #    table_base = 'Temperature'\n",
    "    #    lookup_value = vars['T']\n",
    "    #else:\n",
    "    table_base = 'Pressure'\n",
    "    lookup_value = pressure\n",
    "\n",
    "    var_f = get_apdx_8ab(table_base, table_base[0], lookup_value, known_var + 'f')\n",
    "    var_g = get_apdx_8ab(table_base, table_base[0], lookup_value, known_var + 'g')\n",
    "\n",
    "    x = (known_var_value - var_f) / (var_g - var_f)\n",
    "\n",
    "    return x\n",
    "\n",
    "x = x_from_P_and_var(0.3, 's', 5)\n",
    "print(x)\n",
    "hf, hg = get_apdx_8ab('Pressure', 'P', 0.3, 'hf'), get_apdx_8ab('Pressure', 'P', 0.3, 'hg')\n",
    "heat = (1-x) * (hg - hf)\n",
    "print(heat, 'kJ/kg')"
   ]
  },
  {
   "cell_type": "code",
   "execution_count": null,
   "metadata": {},
   "outputs": [],
   "source": [
    "get_apdx_8c(('P', 'h'), (10, 3004.7), 'T')"
   ]
  },
  {
   "cell_type": "code",
   "execution_count": null,
   "metadata": {},
   "outputs": [],
   "source": [
    "h2 = get_apdx_8ab('Pressure', 'P', 0.2, 'hf')\n",
    "h1 = h2 + 5000/2\n",
    "h1"
   ]
  },
  {
   "cell_type": "code",
   "execution_count": null,
   "metadata": {},
   "outputs": [],
   "source": [
    "# Example usage of the apdx_function module:\n",
    "print(\"Retrieving APDX 1 data for CO2:\")\n",
    "print(get_apdx_1('CO2', 'R', True))\n",
    "\n",
    "print(\"\\nRetrieving APDX 7 data for Air:\")\n",
    "print(get_apdx_7('T', 300, 'Pr'))\n",
    "\n",
    "print(\"\\nRetrieving APDX 8 data for saturated Water:\")\n",
    "print(get_apdx_8ab('Pressure', 'P', 0.50, 'vf'))\n",
    "\n",
    "print(\"\\nRetrieving APDX 9 data for saturated R134a:\")\n",
    "print(get_apdx_9ab('Pressure', 'P', 0.50, 'vf'))"
   ]
  },
  {
   "cell_type": "code",
   "execution_count": null,
   "metadata": {},
   "outputs": [],
   "source": [
    "print(get_apdx_7('T', 300, 'Pr'))\n",
    "print(get_apdx_7('Pr', 30.492, 'h'))\n",
    "print(get_apdx_7('T', 300, 'h'))\n",
    "print(get_apdx_7('h', 799.71, 'T'))"
   ]
  },
  {
   "cell_type": "code",
   "execution_count": null,
   "metadata": {},
   "outputs": [],
   "source": [
    "print(h_air(1976.4))\n",
    "print(h_air(988.2))"
   ]
  },
  {
   "cell_type": "code",
   "execution_count": null,
   "metadata": {},
   "outputs": [],
   "source": [
    "# Example usage of the diesel_solver module\n",
    "variables = define_empty_variables()\n",
    "\n",
    "variables[0]['r'] = 20  # Compression ratio\n",
    "variables[0]['rc'] = 2.0  # Cut-off ratio\n",
    "variables[1]['T1'] = 298.15  # K\n",
    "variables[1]['P1'] = 100  # kPa\n",
    "\n",
    "solve_diesel_cycle(variables)"
   ]
  }
 ],
 "metadata": {
  "kernelspec": {
   "display_name": ".venv",
   "language": "python",
   "name": "python3"
  },
  "language_info": {
   "codemirror_mode": {
    "name": "ipython",
    "version": 3
   },
   "file_extension": ".py",
   "mimetype": "text/x-python",
   "name": "python",
   "nbconvert_exporter": "python",
   "pygments_lexer": "ipython3",
   "version": "3.13.2"
  }
 },
 "nbformat": 4,
 "nbformat_minor": 2
}
