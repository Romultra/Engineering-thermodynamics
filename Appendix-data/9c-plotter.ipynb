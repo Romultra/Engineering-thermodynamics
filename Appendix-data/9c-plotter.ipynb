{
 "cells": [
  {
   "cell_type": "code",
   "execution_count": null,
   "id": "0",
   "metadata": {},
   "outputs": [],
   "source": [
    "import numpy as np\n",
    "import pandas as pd\n",
    "import matplotlib.pyplot as plt"
   ]
  },
  {
   "cell_type": "code",
   "execution_count": null,
   "id": "1",
   "metadata": {},
   "outputs": [],
   "source": [
    "# Load the new uploaded CSV\n",
    "file_path_new = './../Appendix-data/9c-Superheated-R134a.csv'\n",
    "df_new = pd.read_csv(file_path_new, header=1)\n",
    "\n",
    "\n",
    "# Convert Pressure and Temperature columns to numeric\n",
    "df_new['P'] = pd.to_numeric(df_new['P'], errors='coerce')\n",
    "df_new['T'] = pd.to_numeric(df_new['T'], errors='coerce')\n",
    "\n",
    "# Now plot\n",
    "plt.figure(figsize=(10, 6))\n",
    "plt.scatter(df_new['P'], df_new['T'], s=10)\n",
    "plt.title('2D Grid: Pressure vs Temperature (Superheated R134a)')\n",
    "plt.xlabel('Pressure (MPa)')\n",
    "plt.ylabel('Temperature (°C)')\n",
    "plt.grid(True)\n",
    "plt.show()"
   ]
  },
  {
   "cell_type": "code",
   "execution_count": null,
   "id": "2",
   "metadata": {},
   "outputs": [],
   "source": [
    "from scipy.interpolate import griddata\n",
    "\n",
    "# Define the grid over which we want to interpolate\n",
    "pressure_vals = np.linspace(df_new['P'].min(), df_new['P'].max(), 200)\n",
    "temperature_vals = np.linspace(df_new['T'].min(), df_new['T'].max(), 200)\n",
    "\n",
    "# Create a grid\n",
    "P_grid, T_grid = np.meshgrid(pressure_vals, temperature_vals)\n",
    "\n",
    "# Pick a property to interpolate, for example, entropy (s)\n",
    "# First, ensure entropy is numeric\n",
    "df_new['s'] = pd.to_numeric(df_new['s'], errors='coerce')\n",
    "\n",
    "# Prepare points and values\n",
    "points = np.column_stack((df_new['P'], df_new['T']))\n",
    "values = df_new['s']\n",
    "\n",
    "print(griddata(points, values, (0.8, 100), method='linear'))\n",
    "\n",
    "# Interpolate\n",
    "S_grid = griddata(points, values, (P_grid, T_grid), method='linear')\n",
    "\n",
    "# Plot the interpolated surface\n",
    "plt.figure(figsize=(10, 6))\n",
    "contour = plt.contourf(P_grid, T_grid, S_grid, levels=50)\n",
    "plt.colorbar(contour, label='Entropy s (kJ/kg·K)')\n",
    "plt.scatter(df_new['P'], df_new['T'], s=10)\n",
    "plt.title('Interpolated Entropy (s) over Pressure-Temperature Grid')\n",
    "plt.xlabel('Pressure (MPa)')\n",
    "plt.ylabel('Temperature (°C)')\n",
    "plt.grid(True)\n",
    "plt.show()"
   ]
  }
 ],
 "metadata": {
  "kernelspec": {
   "display_name": ".venv",
   "language": "python",
   "name": "python3"
  },
  "language_info": {
   "codemirror_mode": {
    "name": "ipython",
    "version": 3
   },
   "file_extension": ".py",
   "mimetype": "text/x-python",
   "name": "python",
   "nbconvert_exporter": "python",
   "pygments_lexer": "ipython3",
   "version": "3.13.2"
  }
 },
 "nbformat": 4,
 "nbformat_minor": 5
}
